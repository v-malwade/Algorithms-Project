{
 "cells": [
  {
   "cell_type": "code",
   "execution_count": 2,
   "id": "6876bab7",
   "metadata": {},
   "outputs": [],
   "source": [
    "import pandas as pd\n",
    "data_dir = \"SpotGenTrack/Data Sources/\"\n",
    "albums_data = pd.read_csv(data_dir + \"spotify_albums.csv\")\n",
    "artists_data = pd.read_csv(data_dir + \"spotify_artists.csv\")\n",
    "tracks_data = pd.read_csv(data_dir + \"spotify_tracks.csv\")"
   ]
  },
  {
   "cell_type": "code",
   "execution_count": 3,
   "id": "eee6a403",
   "metadata": {
    "scrolled": true
   },
   "outputs": [
    {
     "data": {
      "text/html": [
       "<div>\n",
       "<style scoped>\n",
       "    .dataframe tbody tr th:only-of-type {\n",
       "        vertical-align: middle;\n",
       "    }\n",
       "\n",
       "    .dataframe tbody tr th {\n",
       "        vertical-align: top;\n",
       "    }\n",
       "\n",
       "    .dataframe thead th {\n",
       "        text-align: right;\n",
       "    }\n",
       "</style>\n",
       "<table border=\"1\" class=\"dataframe\">\n",
       "  <thead>\n",
       "    <tr style=\"text-align: right;\">\n",
       "      <th></th>\n",
       "      <th>Unnamed: 0</th>\n",
       "      <th>total_tracks</th>\n",
       "      <th>release_year</th>\n",
       "    </tr>\n",
       "  </thead>\n",
       "  <tbody>\n",
       "    <tr>\n",
       "      <th>count</th>\n",
       "      <td>75511.000000</td>\n",
       "      <td>75511.000000</td>\n",
       "      <td>75511.000000</td>\n",
       "    </tr>\n",
       "    <tr>\n",
       "      <th>mean</th>\n",
       "      <td>37755.000000</td>\n",
       "      <td>8.235807</td>\n",
       "      <td>2012.652898</td>\n",
       "    </tr>\n",
       "    <tr>\n",
       "      <th>std</th>\n",
       "      <td>21798.292425</td>\n",
       "      <td>11.669811</td>\n",
       "      <td>10.103824</td>\n",
       "    </tr>\n",
       "    <tr>\n",
       "      <th>min</th>\n",
       "      <td>0.000000</td>\n",
       "      <td>1.000000</td>\n",
       "      <td>1886.000000</td>\n",
       "    </tr>\n",
       "    <tr>\n",
       "      <th>25%</th>\n",
       "      <td>18877.500000</td>\n",
       "      <td>1.000000</td>\n",
       "      <td>2012.000000</td>\n",
       "    </tr>\n",
       "    <tr>\n",
       "      <th>50%</th>\n",
       "      <td>37755.000000</td>\n",
       "      <td>5.000000</td>\n",
       "      <td>2017.000000</td>\n",
       "    </tr>\n",
       "    <tr>\n",
       "      <th>75%</th>\n",
       "      <td>56632.500000</td>\n",
       "      <td>12.000000</td>\n",
       "      <td>2018.000000</td>\n",
       "    </tr>\n",
       "    <tr>\n",
       "      <th>max</th>\n",
       "      <td>75510.000000</td>\n",
       "      <td>977.000000</td>\n",
       "      <td>2019.000000</td>\n",
       "    </tr>\n",
       "  </tbody>\n",
       "</table>\n",
       "</div>"
      ],
      "text/plain": [
       "         Unnamed: 0  total_tracks  release_year\n",
       "count  75511.000000  75511.000000  75511.000000\n",
       "mean   37755.000000      8.235807   2012.652898\n",
       "std    21798.292425     11.669811     10.103824\n",
       "min        0.000000      1.000000   1886.000000\n",
       "25%    18877.500000      1.000000   2012.000000\n",
       "50%    37755.000000      5.000000   2017.000000\n",
       "75%    56632.500000     12.000000   2018.000000\n",
       "max    75510.000000    977.000000   2019.000000"
      ]
     },
     "execution_count": 3,
     "metadata": {},
     "output_type": "execute_result"
    }
   ],
   "source": [
    "albums_data['release_year'] = pd.to_datetime(albums_data.release_date).dt.year\n",
    "albums_data.describe()"
   ]
  },
  {
   "cell_type": "code",
   "execution_count": 4,
   "id": "c180c788",
   "metadata": {},
   "outputs": [],
   "source": [
    "## join artist genre information and album release date with track dataset\n",
    "# drop irrelevant columns\n",
    "# get only tracks after 1900\n",
    "\n",
    "def join_genre_and_date(artist_df, album_df, track_df):\n",
    "    album = album_df.rename(columns={'id':\"album_id\"}).set_index('album_id')\n",
    "    artist = artist_df.rename(columns={'id':\"artists_id\",'name':\"artists_name\"}).set_index('artists_id')\n",
    "    track = track_df.set_index('album_id').join(album['release_date'], on='album_id' )\n",
    "    track.artists_id = track.artists_id.apply(lambda x: x[2:-2])\n",
    "    track = track.set_index('artists_id').join(artist[['artists_name','genres']], on='artists_id' )\n",
    "    track.reset_index(drop=False, inplace=True)\n",
    "    track['release_year'] = pd.to_datetime(track.release_date).dt.year\n",
    "    track.drop(columns = ['Unnamed: 0','country','track_name_prev','track_number','type'], inplace = True)\n",
    "    \n",
    "    return track[track.release_year >= 1900]\n",
    "\n",
    "def get_filtered_track_df(df, genres_to_include):\n",
    "    df['genres'] = df.genres.apply(lambda x: [i[1:-1] for i in str(x)[1:-1].split(\", \")])\n",
    "    df_exploded = df.explode(\"genres\")[df.explode(\"genres\")[\"genres\"].isin(genres_to_include)]\n",
    "    df_exploded.loc[df_exploded[\"genres\"]==\"korean pop\", \"genres\"] = \"k-pop\"\n",
    "    df_exploded_indices = list(df_exploded.index.unique())\n",
    "    df = df[df.index.isin(df_exploded_indices)]\n",
    "    df = df.reset_index(drop=True)\n",
    "    return df\n",
    "\n",
    "track_with_year_and_genre = join_genre_and_date(artists_data, albums_data, tracks_data)\n",
    "genres_to_include = genres = ['dance pop', 'electronic', 'electropop', 'hip hop', 'jazz', 'k-pop', 'latin', 'pop', 'pop rap', 'r&b', 'rock']\n",
    "filtered_track_df = get_filtered_track_df(track_with_year_and_genre, genres_to_include)\n",
    "\n",
    "filtered_track_df[\"uri\"] = filtered_track_df[\"uri\"].str.replace(\"spotify:track:\", \"\")\n",
    "filtered_track_df = filtered_track_df.drop(columns=['analysis_url', 'available_markets'])"
   ]
  },
  {
   "cell_type": "code",
   "execution_count": null,
   "id": "6f053177",
   "metadata": {},
   "outputs": [],
   "source": []
  }
 ],
 "metadata": {
  "kernelspec": {
   "display_name": "Python 3",
   "language": "python",
   "name": "python3"
  },
  "language_info": {
   "codemirror_mode": {
    "name": "ipython",
    "version": 3
   },
   "file_extension": ".py",
   "mimetype": "text/x-python",
   "name": "python",
   "nbconvert_exporter": "python",
   "pygments_lexer": "ipython3",
   "version": "3.7.10"
  }
 },
 "nbformat": 4,
 "nbformat_minor": 5
}
